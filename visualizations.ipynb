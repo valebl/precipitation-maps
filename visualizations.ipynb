{
 "cells": [
  {
   "cell_type": "markdown",
   "metadata": {},
   "source": [
    "### Some visualizations\n",
    "Import the datasets, from which we will derive the lat-lon grids."
   ]
  },
  {
   "cell_type": "code",
   "execution_count": null,
   "metadata": {},
   "outputs": [],
   "source": [
    "ERA5_q_2001 = xr.open_dataset(\"/m100_work/ICT22_ESP_0/vblasone/ERA5/q_2001.nc\")\n",
    "GRIPHO = xr.open_dataset(\"/m100_work/ICT22_ESP_0/vblasone/GRIPHO/gripho-v1_1h_TSmin30pct_2001-2016_cut.nc\")"
   ]
  },
  {
   "cell_type": "code",
   "execution_count": null,
   "metadata": {},
   "outputs": [],
   "source": [
    "lon_ERA5, lat_ERA5 = ERA5_q_2001.longitude, ERA5_q_2001.latitude\n",
    "LON_ERA5, LAT_ERA5 = np.meshgrid(lon_ERA5, lat_ERA5)\n",
    "\n",
    "LON_GRIPHO, LAT_GRIPHO = GRIPHO.lon, GRIPHO.lat"
   ]
  },
  {
   "cell_type": "markdown",
   "metadata": {},
   "source": [
    "Check the boundaries."
   ]
  },
  {
   "cell_type": "code",
   "execution_count": null,
   "metadata": {},
   "outputs": [],
   "source": [
    "# ERA5\n",
    "print(f'ERA5\\nLon: from {lon_ERA5.values.min()}, to {lon_ERA5.values.max()},\n",
    "            \\nLat: from{lat_ERA5.values.min()}, to {lat_ERA5.values.max()}')\n",
    "\n",
    "# GRIPHO\n",
    "print(f'ERA5\\nLon: from {lon_GRIPHO.values.min()}, to {lon_GRIPHO.values.max()},\n",
    "            \\nLat: from{lat_GRIPHO.values.min()}, to {lat_GRIPHO.values.max()}')"
   ]
  },
  {
   "cell_type": "markdown",
   "metadata": {},
   "source": [
    "Some plotting utilities"
   ]
  },
  {
   "cell_type": "code",
   "execution_count": null,
   "metadata": {},
   "outputs": [],
   "source": [
    "zones = []\n",
    "with open('./Italia.txt') as f:\n",
    "    lines = f.read()\n",
    "    for zone in lines.split(';'):\n",
    "        zones.append(zone)\n",
    "for i in range(len(zones)):\n",
    "    zones[i] = zones[i].split('\\n')\n",
    "    for j in range(len(zones[i])):\n",
    "        zones[i][j] = zones[i][j].split(',')\n",
    "    if [''] in zones[i]:\n",
    "        zones[i].remove([''])\n",
    "for i in range(len(zones)):\n",
    "    for j in range(len(zones[i])):\n",
    "        if '' in zones[i][j]:\n",
    "            zones[i][j].remove('')\n",
    "        if zones[i][j] == []:\n",
    "            del zones[i][j]\n",
    "            continue\n",
    "        for k in range(len(zones[i][j])):\n",
    "            zones[i][j][k] = float(zones[i][j][k])"
   ]
  },
  {
   "cell_type": "code",
   "execution_count": null,
   "metadata": {},
   "outputs": [],
   "source": [
    "def plot_italy(zones):\n",
    "    j = 0\n",
    "    for zone in zones:\n",
    "        x_zone = [zone[i][0] for i in range(len(zone)) if i > 0]\n",
    "        y_zone = [zone[i][1] for i in range(len(zone)) if i > 0]\n",
    "        plt.fill(x_zone, y_zone, 'k', alpha=0.1)\n",
    "        plt.plot(x_zone, y_zone, 'k', alpha=1, linewidth=1)\n",
    "        j += 1\n"
   ]
  },
  {
   "cell_type": "code",
   "execution_count": null,
   "metadata": {},
   "outputs": [],
   "source": [
    "def draw_rectangle(x_min, x_max, y_min, y_max, color, fill=False, fill_color=None, alpha=0.5):\n",
    "    y_grid = [y_min, y_min, y_max, y_max, y_min]\n",
    "    x_grid = [x_min, x_max, x_max, x_min, x_min]\n",
    "    plt.plot(x_grid, y_grid, color=color)\n",
    "    if fill:\n",
    "        if fill_color==None:\n",
    "            fill_color = color\n",
    "        plt.fill(x_grid, y_grid, color=fill_color, alpha=alpha)"
   ]
  },
  {
   "cell_type": "markdown",
   "metadata": {},
   "source": [
    "#### Plots"
   ]
  },
  {
   "cell_type": "code",
   "execution_count": null,
   "metadata": {},
   "outputs": [],
   "source": [
    "dist=0.5\n",
    "fig, ax = plt.subplots(1,figsize=(10,10))\n",
    "draw_rectangle(lon_GRIPHO.values.min(),lon_GRIPHO.values.max(),lat_GRIPHO.values.min(),lat_GRIPHO.values.max(),'red')\n",
    "draw_rectangle(6.5,14,43.5,47.25,'skyblue',fill=True)    # SLICE_1 - processed\n",
    "draw_rectangle(6.5-dist,14+dist,43.5-dist,47.25+dist,'blue')    # SLICE_1 - processed\n",
    "plt.text(13.75, 47, '1')\n",
    "draw_rectangle(9.5,16.25,41.5,43.5,'skyblue',fill=True)  # SLICE_2 \n",
    "draw_rectangle(9.5-dist,16.25+dist,41.5-dist,43.5+dist,'blue')  # SLICE_2 \n",
    "plt.text(16, 43.25, '2')\n",
    "draw_rectangle(12.5, 18.75,39,41.5,'skyblue',fill=True)  # SLICE_3 - processed\n",
    "draw_rectangle(12.5-dist, 18.75+dist,39-dist,41.5+dist,'blue')  # SLICE_3 - processed\n",
    "plt.text(18.5, 41.25, '3')\n",
    "draw_rectangle(11.75,17.25,36.5,39,'skyblue',fill=True)  # SLICE_4 - processed\n",
    "draw_rectangle(11.75-dist,17.25+dist,36.5-dist,39+dist,'blue')  # SLICE_4 - processed\n",
    "plt.text(17, 38.5, '4')\n",
    "draw_rectangle(8,10,38.75,41.5,'skyblue',fill=True)      # SLICE_5 - processed\n",
    "draw_rectangle(8-dist,10+dist,38.75-dist,41.5+dist,'blue')      # SLICE_5 - processed\n",
    "plt.text(9.75, 41.25, '5')\n",
    "plt.scatter(LON, LAT, color='orange', s=1, label='ERA5')\n",
    "plt.ylim([35,48.5])\n",
    "plt.xlim([5,21])\n",
    "plot_italy(zones)"
   ]
  }
 ],
 "metadata": {
  "language_info": {
   "name": "python"
  },
  "orig_nbformat": 4
 },
 "nbformat": 4,
 "nbformat_minor": 2
}
